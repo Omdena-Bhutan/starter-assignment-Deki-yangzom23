{
  "nbformat": 4,
  "nbformat_minor": 0,
  "metadata": {
    "colab": {
      "provenance": [],
      "authorship_tag": "ABX9TyO9q8NqR/HQryHcn6ss2OwL",
      "include_colab_link": true
    },
    "kernelspec": {
      "name": "python3",
      "display_name": "Python 3"
    },
    "language_info": {
      "name": "python"
    }
  },
  "cells": [
    {
      "cell_type": "markdown",
      "metadata": {
        "id": "view-in-github",
        "colab_type": "text"
      },
      "source": [
        "<a href=\"https://colab.research.google.com/github/Omdena-Bhutan/starter-assignment-Deki-yangzom23/blob/main/Assignment.ipynb\" target=\"_parent\"><img src=\"https://colab.research.google.com/assets/colab-badge.svg\" alt=\"Open In Colab\"/></a>"
      ]
    },
    {
      "cell_type": "markdown",
      "source": [
        "#Assigment 1 : (IF statement )\n"
      ],
      "metadata": {
        "id": "BlpnbWESudF7"
      }
    },
    {
      "cell_type": "code",
      "execution_count": 1,
      "metadata": {
        "colab": {
          "base_uri": "https://localhost:8080/"
        },
        "id": "20t17UxCuaCI",
        "outputId": "36805dff-20ad-4609-cbe1-215bd04d0637"
      },
      "outputs": [
        {
          "output_type": "stream",
          "name": "stdout",
          "text": [
            "Enter your age: 12\n",
            "Your ticket price is AMT: 500\n"
          ]
        }
      ],
      "source": [
        "age = int(input(\"Enter your age: \"))\n",
        "\n",
        "if age < 12:\n",
        "    price = 300\n",
        "\n",
        "if age >= 12 and age <= 17:\n",
        "    price = 500\n",
        "\n",
        "if age >= 18 and age <= 59:\n",
        "    price = 800\n",
        "\n",
        "if age >= 60:\n",
        "    price = 400\n",
        "\n",
        "print(\"Your ticket price is AMT:\", price)"
      ]
    },
    {
      "cell_type": "markdown",
      "source": [
        "# Assigment 2"
      ],
      "metadata": {
        "id": "hsX7--01vEPz"
      }
    },
    {
      "cell_type": "code",
      "source": [
        "num = int(input(\"Enter a number: \"))\n",
        "\n",
        "for i in range(num + 1):\n",
        "    if i % 3 == 0:\n",
        "        print(i)"
      ],
      "metadata": {
        "colab": {
          "base_uri": "https://localhost:8080/"
        },
        "id": "Vc8Psf9rvXwy",
        "outputId": "f453075e-0671-4ca2-c2a3-6ac6380e03c8"
      },
      "execution_count": 2,
      "outputs": [
        {
          "output_type": "stream",
          "name": "stdout",
          "text": [
            "Enter a number: 1\n",
            "0\n"
          ]
        }
      ]
    },
    {
      "cell_type": "markdown",
      "source": [
        "#Assignment 3"
      ],
      "metadata": {
        "id": "Q71Luaufvsj7"
      }
    },
    {
      "cell_type": "code",
      "source": [
        "secret = 7  # the secret number\n",
        "guess = int(input(\"Guess the secret number: \"))\n",
        "\n",
        "while guess != secret:\n",
        "    guess = int(input(\"Wrong! Try again: \"))\n",
        "\n",
        "print(\"Congratulations, you guessed it right!\")"
      ],
      "metadata": {
        "colab": {
          "base_uri": "https://localhost:8080/"
        },
        "id": "gWFJ-JZyvwAx",
        "outputId": "1e2584ed-558d-43da-8859-ce6489ef17d3"
      },
      "execution_count": 3,
      "outputs": [
        {
          "output_type": "stream",
          "name": "stdout",
          "text": [
            "Guess the secret number: 1\n",
            "Wrong! Try again: 2\n",
            "Wrong! Try again: 3\n",
            "Wrong! Try again: 4\n",
            "Wrong! Try again: 5\n",
            "Wrong! Try again: 6\n",
            "Wrong! Try again: 7\n",
            "Congratulations, you guessed it right!\n"
          ]
        }
      ]
    },
    {
      "cell_type": "markdown",
      "source": [
        "#Assignment 4\n",
        "Research and practice the following about the functions:\n",
        "\n",
        "How to write keywords arguements\n",
        "Variable number of arguments\n",
        "*args -**kwargs"
      ],
      "metadata": {
        "id": "JByOzIHAv7bN"
      }
    },
    {
      "cell_type": "code",
      "source": [
        "# *args\n",
        "def add_numbers(*args):\n",
        "    total = 0\n",
        "    for num in args:\n",
        "        total += num\n",
        "    print(\"Sum:\", total)\n",
        "\n",
        "add_numbers(5, 5)\n",
        "add_numbers(1, 2, 3, 4, 5)"
      ],
      "metadata": {
        "colab": {
          "base_uri": "https://localhost:8080/"
        },
        "id": "Tk3hWZFyxR-Z",
        "outputId": "443ffcb6-3190-4376-cb3f-c559f5ddd788"
      },
      "execution_count": 6,
      "outputs": [
        {
          "output_type": "stream",
          "name": "stdout",
          "text": [
            "Sum: 10\n",
            "Sum: 15\n"
          ]
        }
      ]
    },
    {
      "cell_type": "code",
      "source": [
        "# *kwargs\n",
        "def show_details(**kwargs):\n",
        "    for key, value in kwargs.items():\n",
        "        print(f\"{key}: {value}\")\n",
        "\n",
        "show_details(name=\"Deki\", age=22, country=\"Bhutan\")\n"
      ],
      "metadata": {
        "colab": {
          "base_uri": "https://localhost:8080/"
        },
        "id": "3Xt31v4HxhrG",
        "outputId": "47a45878-14f0-4d9a-f9b4-d9de8f0c499c"
      },
      "execution_count": 7,
      "outputs": [
        {
          "output_type": "stream",
          "name": "stdout",
          "text": [
            "name: Deki\n",
            "age: 22\n",
            "country: Bhutan\n"
          ]
        }
      ]
    },
    {
      "cell_type": "markdown",
      "source": [
        "# Assignment on functions"
      ],
      "metadata": {
        "id": "BwQmNxC7yGCL"
      }
    },
    {
      "cell_type": "code",
      "source": [
        "def calculate_grade(marks):\n",
        "    if marks >= 90:\n",
        "        return \"A\"\n",
        "    if marks >= 80:\n",
        "        return \"B\"\n",
        "    if marks >= 70:\n",
        "        return \"C\"\n",
        "    if marks >= 60:\n",
        "        return \"D\"\n",
        "    return \"F\"\n",
        "\n",
        "marks = int(input(\"Enter your marks (0-100): \"))\n",
        "print(\"Your grade is\", calculate_grade(marks))"
      ],
      "metadata": {
        "colab": {
          "base_uri": "https://localhost:8080/"
        },
        "id": "pjxELAiAyNC7",
        "outputId": "5e9b665c-e0dd-4e15-ef7c-799d331bf157"
      },
      "execution_count": 8,
      "outputs": [
        {
          "output_type": "stream",
          "name": "stdout",
          "text": [
            "Enter your marks (0-100): 80\n",
            "Your grade is B\n"
          ]
        }
      ]
    }
  ]
}